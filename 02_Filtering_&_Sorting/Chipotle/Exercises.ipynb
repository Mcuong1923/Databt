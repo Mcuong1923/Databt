{
  "cells": [
    {
      "cell_type": "markdown",
      "metadata": {
        "id": "view-in-github",
        "colab_type": "text"
      },
      "source": [
        "<a href=\"https://colab.research.google.com/github/Mcuong1923/Databt/blob/main/02_Filtering_%26_Sorting/Chipotle/Exercises.ipynb\" target=\"_parent\"><img src=\"https://colab.research.google.com/assets/colab-badge.svg\" alt=\"Open In Colab\"/></a>"
      ]
    },
    {
      "cell_type": "markdown",
      "metadata": {
        "pycharm": {
          "name": "#%% md\n"
        },
        "id": "UK0Dp-M6zC2x"
      },
      "source": [
        "# Ex1 - Filtering and Sorting Data"
      ]
    },
    {
      "cell_type": "markdown",
      "metadata": {
        "pycharm": {
          "name": "#%% md\n"
        },
        "id": "jAIzj1fzzC2y"
      },
      "source": [
        "This time we are going to pull data directly from the internet.\n",
        "Special thanks to: https://github.com/justmarkham for sharing the dataset and materials.\n",
        "\n",
        "### Step 1. Import the necessary libraries"
      ]
    },
    {
      "cell_type": "code",
      "execution_count": 1,
      "metadata": {
        "pycharm": {
          "name": "#%%\n",
          "is_executing": true
        },
        "id": "kF4vsM6kzC2y"
      },
      "outputs": [],
      "source": [
        "import pandas as pd\n",
        "import numpy as np\n"
      ]
    },
    {
      "cell_type": "markdown",
      "metadata": {
        "pycharm": {
          "name": "#%% md\n"
        },
        "id": "97g-4oozzC2z"
      },
      "source": [
        "### Step 2. Import the dataset from this [address](https://raw.githubusercontent.com/thieu1995/csv-files/main/data/pandas/chipotle.tsv)."
      ]
    },
    {
      "cell_type": "markdown",
      "metadata": {
        "pycharm": {
          "name": "#%% md\n"
        },
        "id": "N02dTuMwzC2z"
      },
      "source": [
        "### Step 3. Assign it to a variable called chipo."
      ]
    },
    {
      "cell_type": "code",
      "execution_count": 5,
      "metadata": {
        "pycharm": {
          "name": "#%%\n"
        },
        "id": "WDe3bF4ZzC2z"
      },
      "outputs": [],
      "source": [
        "import requests\n",
        "import pandas as pd\n",
        "url = \"https://raw.githubusercontent.com/thieu1995/csv-files/main/data/pandas/chipotle.tsv\"\n",
        "response = requests.get(url)\n",
        "from io import StringIO\n",
        "chipo = pd.read_csv(StringIO(response.text), sep='\\t')\n"
      ]
    },
    {
      "cell_type": "markdown",
      "metadata": {
        "pycharm": {
          "name": "#%% md\n"
        },
        "id": "v0CEMR8uzC2z"
      },
      "source": [
        "### Step 4. How many products cost more than $10.00?"
      ]
    },
    {
      "cell_type": "code",
      "execution_count": 10,
      "metadata": {
        "pycharm": {
          "name": "#%%\n"
        },
        "id": "CxtSPzFtzC2z",
        "outputId": "46918ee9-f86d-43a1-d756-d02a099400c8",
        "colab": {
          "base_uri": "https://localhost:8080/"
        }
      },
      "outputs": [
        {
          "output_type": "stream",
          "name": "stdout",
          "text": [
            "float64\n",
            "Số sản phẩm có giá hơn $10.00 là: 1130\n"
          ]
        }
      ],
      "source": [
        "chipo['item_price'] = chipo['item_price'].replace({'\\$': '', ',': ''}, regex=True).astype(float)\n",
        "print(chipo['item_price'].dtype)\n",
        "num_expensive_items = chipo[chipo['item_price'] > 10].shape[0]\n",
        "print(f\"Số sản phẩm có giá hơn $10.00 là: {num_expensive_items}\")\n",
        "\n"
      ]
    },
    {
      "cell_type": "markdown",
      "metadata": {
        "pycharm": {
          "name": "#%% md\n"
        },
        "id": "SBtWU3xNzC2z"
      },
      "source": [
        "### Step 5. What is the price of each item?\n",
        "###### print a data frame with only two columns item_name and item_price"
      ]
    },
    {
      "cell_type": "code",
      "execution_count": 11,
      "metadata": {
        "pycharm": {
          "name": "#%%\n"
        },
        "id": "ISUHVPeJzC20",
        "outputId": "2fbb5632-7d49-4a86-8534-b329c56f8f49",
        "colab": {
          "base_uri": "https://localhost:8080/"
        }
      },
      "outputs": [
        {
          "output_type": "stream",
          "name": "stdout",
          "text": [
            "                                  item_name  item_price\n",
            "0              Chips and Fresh Tomato Salsa        2.39\n",
            "1                                      Izze        3.39\n",
            "2                          Nantucket Nectar        3.39\n",
            "3     Chips and Tomatillo-Green Chili Salsa        2.39\n",
            "4                              Chicken Bowl       16.98\n",
            "...                                     ...         ...\n",
            "4617                          Steak Burrito       11.75\n",
            "4618                          Steak Burrito       11.75\n",
            "4619                     Chicken Salad Bowl       11.25\n",
            "4620                     Chicken Salad Bowl        8.75\n",
            "4621                     Chicken Salad Bowl        8.75\n",
            "\n",
            "[4622 rows x 2 columns]\n"
          ]
        }
      ],
      "source": [
        "item_price_df = chipo[['item_name', 'item_price']]\n",
        "print(item_price_df)\n"
      ]
    },
    {
      "cell_type": "markdown",
      "metadata": {
        "pycharm": {
          "name": "#%% md\n"
        },
        "id": "nqHsCz49zC20"
      },
      "source": [
        "### Step 6. Sort by the name of the item"
      ]
    },
    {
      "cell_type": "code",
      "execution_count": 12,
      "metadata": {
        "pycharm": {
          "name": "#%%\n"
        },
        "id": "iOVr9j45zC20",
        "outputId": "9206f809-70b9-4d9a-8b6e-24299f54d2dc",
        "colab": {
          "base_uri": "https://localhost:8080/"
        }
      },
      "outputs": [
        {
          "output_type": "stream",
          "name": "stdout",
          "text": [
            "              item_name  item_price\n",
            "3389  6 Pack Soft Drink       12.98\n",
            "341   6 Pack Soft Drink        6.49\n",
            "1849  6 Pack Soft Drink        6.49\n",
            "1860  6 Pack Soft Drink        6.49\n",
            "2713  6 Pack Soft Drink        6.49\n",
            "...                 ...         ...\n",
            "2384  Veggie Soft Tacos        8.75\n",
            "781   Veggie Soft Tacos        8.75\n",
            "2851  Veggie Soft Tacos        8.49\n",
            "1699  Veggie Soft Tacos       11.25\n",
            "1395  Veggie Soft Tacos        8.49\n",
            "\n",
            "[4622 rows x 2 columns]\n"
          ]
        }
      ],
      "source": [
        "sorted_items = item_price_df.sort_values(by='item_name')\n",
        "print(sorted_items)\n"
      ]
    },
    {
      "cell_type": "markdown",
      "metadata": {
        "pycharm": {
          "name": "#%% md\n"
        },
        "id": "FPJ2V3yFzC20"
      },
      "source": [
        "### Step 7. What was the quantity of the most expensive item ordered?"
      ]
    },
    {
      "cell_type": "code",
      "execution_count": 14,
      "metadata": {
        "pycharm": {
          "name": "#%%\n"
        },
        "id": "JGf17wqlzC20",
        "outputId": "28f0975b-e095-4b93-a3b3-821b146b8a23",
        "colab": {
          "base_uri": "https://localhost:8080/"
        }
      },
      "outputs": [
        {
          "output_type": "stream",
          "name": "stdout",
          "text": [
            "Số lượng của sản phẩm đắt nhất đã được đặt là: 15\n"
          ]
        }
      ],
      "source": [
        "# sp đắt\n",
        "max_price_item = chipo[chipo['item_price'] == chipo['item_price'].max()]\n",
        "\n",
        "# Tính số lg sp đắt nhất\n",
        "max_price_item_quantity = max_price_item['quantity'].sum()\n",
        "print(f\"Số lượng của sản phẩm đắt nhất đã được đặt là: {max_price_item_quantity}\")\n"
      ]
    },
    {
      "cell_type": "markdown",
      "metadata": {
        "pycharm": {
          "name": "#%% md\n"
        },
        "id": "ex2cpNgAzC20"
      },
      "source": [
        "### Step 8. How many times was a Veggie Salad Bowl ordered?"
      ]
    },
    {
      "cell_type": "code",
      "execution_count": 15,
      "metadata": {
        "pycharm": {
          "name": "#%%\n"
        },
        "id": "fFnXhEkQzC20",
        "outputId": "f0cf6e9b-9229-43b4-cb94-941a2186f562",
        "colab": {
          "base_uri": "https://localhost:8080/"
        }
      },
      "outputs": [
        {
          "output_type": "stream",
          "name": "stdout",
          "text": [
            "Số lần Veggie Salad Bowl được đặt là: 18\n"
          ]
        }
      ],
      "source": [
        "veggie_salad_bowl_count = chipo[chipo['item_name'] == 'Veggie Salad Bowl'].shape[0]\n",
        "print(f\"Số lần Veggie Salad Bowl được đặt là: {veggie_salad_bowl_count}\")\n"
      ]
    },
    {
      "cell_type": "markdown",
      "metadata": {
        "pycharm": {
          "name": "#%% md\n"
        },
        "id": "x2YmZ0sozC20"
      },
      "source": [
        "### Step 9. How many times did someone order more than one Canned Soda?"
      ]
    },
    {
      "cell_type": "code",
      "execution_count": 16,
      "metadata": {
        "pycharm": {
          "name": "#%%\n"
        },
        "id": "GTI8iF60zC20",
        "outputId": "6f91ad18-95d4-4598-8445-410ba68bdeea",
        "colab": {
          "base_uri": "https://localhost:8080/"
        }
      },
      "outputs": [
        {
          "output_type": "stream",
          "name": "stdout",
          "text": [
            "Số lần Canned Soda được đặt nhiều hơn một lần là: 20\n"
          ]
        }
      ],
      "source": [
        "# Lọc các đơn hàng có tên sản phẩm là 'Canned Soda' và số lượng > 1\n",
        "canned_soda_orders = chipo[(chipo['item_name'] == 'Canned Soda') & (chipo['quantity'] > 1)]\n",
        "\n",
        "# Tính số lần Canned Soda được đặt nhiều hơn một lần\n",
        "num_orders_more_than_one = canned_soda_orders.shape[0]\n",
        "\n",
        "print(f\"Số lần Canned Soda được đặt nhiều hơn một lần là: {num_orders_more_than_one}\")\n"
      ]
    }
  ],
  "metadata": {
    "kernelspec": {
      "display_name": "Python 2",
      "language": "python",
      "name": "python2"
    },
    "language_info": {
      "codemirror_mode": {
        "name": "ipython",
        "version": 2
      },
      "file_extension": ".py",
      "mimetype": "text/x-python",
      "name": "python",
      "nbconvert_exporter": "python",
      "pygments_lexer": "ipython2",
      "version": "2.7.11"
    },
    "colab": {
      "provenance": [],
      "include_colab_link": true
    }
  },
  "nbformat": 4,
  "nbformat_minor": 0
}