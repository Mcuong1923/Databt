{
  "cells": [
    {
      "cell_type": "markdown",
      "metadata": {
        "id": "view-in-github",
        "colab_type": "text"
      },
      "source": [
        "<a href=\"https://colab.research.google.com/github/Mcuong1923/Databt/blob/main/09_Time_Series/Apple_Stock/Exercises.ipynb\" target=\"_parent\"><img src=\"https://colab.research.google.com/assets/colab-badge.svg\" alt=\"Open In Colab\"/></a>"
      ]
    },
    {
      "cell_type": "markdown",
      "metadata": {
        "pycharm": {
          "name": "#%% md\n"
        },
        "id": "qLZyze4NmXXa"
      },
      "source": [
        "# Apple Stock"
      ]
    },
    {
      "cell_type": "markdown",
      "metadata": {
        "pycharm": {
          "name": "#%% md\n"
        },
        "id": "fqNVWXBTmXXd"
      },
      "source": [
        "### Introduction:\n",
        "\n",
        "We are going to use Apple's stock price.\n",
        "\n",
        "\n",
        "### Step 1. Import the necessary libraries"
      ]
    },
    {
      "cell_type": "code",
      "execution_count": 1,
      "metadata": {
        "pycharm": {
          "name": "#%%\n"
        },
        "id": "4HhflMoYmXXd"
      },
      "outputs": [],
      "source": [
        "import pandas as pd\n",
        "import numpy as np\n"
      ]
    },
    {
      "cell_type": "markdown",
      "metadata": {
        "pycharm": {
          "name": "#%% md\n"
        },
        "id": "u2R8NEXBmXXe"
      },
      "source": [
        "### Step 2. Import the dataset from this [address](https://raw.githubusercontent.com/thieu1995/csv-files/main/data/pandas/appl_1980_2014.csv)"
      ]
    },
    {
      "cell_type": "code",
      "execution_count": 2,
      "metadata": {
        "collapsed": true,
        "pycharm": {
          "name": "#%%\n"
        },
        "id": "o1pXEg7BmXXe"
      },
      "outputs": [],
      "source": [
        "url = 'https://raw.githubusercontent.com/thieu1995/csv-files/main/data/pandas/appl_1980_2014.csv'\n"
      ]
    },
    {
      "cell_type": "markdown",
      "metadata": {
        "pycharm": {
          "name": "#%% md\n"
        },
        "id": "fq2BdvyimXXe"
      },
      "source": [
        "### Step 3. Assign it to a variable apple"
      ]
    },
    {
      "cell_type": "code",
      "execution_count": 4,
      "metadata": {
        "pycharm": {
          "name": "#%%\n"
        },
        "id": "pVG9LBGCmXXe",
        "outputId": "fbc5b8d8-ebad-4a98-8297-6c96c0a2dbe1",
        "colab": {
          "base_uri": "https://localhost:8080/"
        }
      },
      "outputs": [
        {
          "output_type": "stream",
          "name": "stdout",
          "text": [
            "         Date   Open   High    Low  Close    Volume  Adj Close\n",
            "0  2014-07-08  96.27  96.80  93.92  95.35  65130000      95.35\n",
            "1  2014-07-07  94.14  95.99  94.10  95.97  56305400      95.97\n",
            "2  2014-07-03  93.67  94.10  93.20  94.03  22891800      94.03\n",
            "3  2014-07-02  93.87  94.06  93.09  93.48  28420900      93.48\n",
            "4  2014-07-01  93.52  94.07  93.13  93.52  38170200      93.52\n"
          ]
        }
      ],
      "source": [
        "apple = pd.read_csv(url)\n",
        "print(apple.head())\n"
      ]
    },
    {
      "cell_type": "markdown",
      "metadata": {
        "pycharm": {
          "name": "#%% md\n"
        },
        "id": "cMnwdgXjmXXe"
      },
      "source": [
        "### Step 4.  Check out the type of the columns"
      ]
    },
    {
      "cell_type": "code",
      "execution_count": 5,
      "metadata": {
        "pycharm": {
          "name": "#%%\n"
        },
        "id": "f_4grFnVmXXf",
        "outputId": "b74763d0-4be9-450e-d1e9-4ef7ebdd7641",
        "colab": {
          "base_uri": "https://localhost:8080/"
        }
      },
      "outputs": [
        {
          "output_type": "stream",
          "name": "stdout",
          "text": [
            "Date          object\n",
            "Open         float64\n",
            "High         float64\n",
            "Low          float64\n",
            "Close        float64\n",
            "Volume         int64\n",
            "Adj Close    float64\n",
            "dtype: object\n"
          ]
        }
      ],
      "source": [
        "print(apple.dtypes)\n"
      ]
    },
    {
      "cell_type": "markdown",
      "metadata": {
        "pycharm": {
          "name": "#%% md\n"
        },
        "id": "auzRbvIqmXXf"
      },
      "source": [
        "### Step 5. Transform the Date column as a datetime type"
      ]
    },
    {
      "cell_type": "code",
      "execution_count": 6,
      "metadata": {
        "pycharm": {
          "name": "#%%\n"
        },
        "id": "CEqXECT_mXXf",
        "outputId": "9e156aad-20fc-430a-ec9f-2277d5daba8f",
        "colab": {
          "base_uri": "https://localhost:8080/"
        }
      },
      "outputs": [
        {
          "output_type": "stream",
          "name": "stdout",
          "text": [
            "Date         datetime64[ns]\n",
            "Open                float64\n",
            "High                float64\n",
            "Low                 float64\n",
            "Close               float64\n",
            "Volume                int64\n",
            "Adj Close           float64\n",
            "dtype: object\n"
          ]
        }
      ],
      "source": [
        "apple['Date'] = pd.to_datetime(apple['Date'])\n",
        "print(apple.dtypes)\n"
      ]
    },
    {
      "cell_type": "markdown",
      "metadata": {
        "pycharm": {
          "name": "#%% md\n"
        },
        "id": "A5TGQF7SmXXf"
      },
      "source": [
        "### Step 6.  Set the date as the index"
      ]
    },
    {
      "cell_type": "code",
      "execution_count": 7,
      "metadata": {
        "pycharm": {
          "name": "#%%\n"
        },
        "id": "a_w1g2SrmXXg",
        "outputId": "60209eaf-54ca-431a-e49c-fd7c71396553",
        "colab": {
          "base_uri": "https://localhost:8080/"
        }
      },
      "outputs": [
        {
          "output_type": "stream",
          "name": "stdout",
          "text": [
            "             Open   High    Low  Close    Volume  Adj Close\n",
            "Date                                                       \n",
            "2014-07-08  96.27  96.80  93.92  95.35  65130000      95.35\n",
            "2014-07-07  94.14  95.99  94.10  95.97  56305400      95.97\n",
            "2014-07-03  93.67  94.10  93.20  94.03  22891800      94.03\n",
            "2014-07-02  93.87  94.06  93.09  93.48  28420900      93.48\n",
            "2014-07-01  93.52  94.07  93.13  93.52  38170200      93.52\n"
          ]
        }
      ],
      "source": [
        "apple.set_index('Date', inplace=True)\n",
        "print(apple.head())\n"
      ]
    },
    {
      "cell_type": "markdown",
      "metadata": {
        "pycharm": {
          "name": "#%% md\n"
        },
        "id": "1r8DvWR6mXXg"
      },
      "source": [
        "### Step 7.  Is there any duplicate dates?"
      ]
    },
    {
      "cell_type": "code",
      "execution_count": 8,
      "metadata": {
        "pycharm": {
          "name": "#%%\n"
        },
        "id": "VcZXJrqAmXXg",
        "outputId": "124bb11f-0b94-4eca-800a-0fa84f754d2e",
        "colab": {
          "base_uri": "https://localhost:8080/"
        }
      },
      "outputs": [
        {
          "output_type": "stream",
          "name": "stdout",
          "text": [
            "Number of duplicated dates: 0\n"
          ]
        }
      ],
      "source": [
        "duplicates = apple.index.duplicated().sum()\n",
        "print(\"Number of duplicated dates:\", duplicates)\n"
      ]
    },
    {
      "cell_type": "markdown",
      "metadata": {
        "pycharm": {
          "name": "#%% md\n"
        },
        "id": "yt72sV_VmXXg"
      },
      "source": [
        "### Step 8.  Ops...it seems the index is from the most recent date. Make the first entry the oldest date."
      ]
    },
    {
      "cell_type": "code",
      "execution_count": 9,
      "metadata": {
        "pycharm": {
          "name": "#%%\n"
        },
        "id": "1TBe_Nl0mXXg"
      },
      "outputs": [],
      "source": [
        "# Sắp xếp index theo thứ tự tăng dần (từ cũ nhất đến mới nhất)\n",
        "apple.sort_index(inplace=True)\n"
      ]
    },
    {
      "cell_type": "markdown",
      "metadata": {
        "pycharm": {
          "name": "#%% md\n"
        },
        "id": "D7D3DozUmXXg"
      },
      "source": [
        "### Step 9. Get the last business day of each month"
      ]
    },
    {
      "cell_type": "code",
      "execution_count": 10,
      "metadata": {
        "pycharm": {
          "name": "#%%\n"
        },
        "id": "TZ2vD5c9mXXg",
        "outputId": "b39a81cc-fcd1-498a-b66a-6c566d8029f6",
        "colab": {
          "base_uri": "https://localhost:8080/"
        }
      },
      "outputs": [
        {
          "output_type": "stream",
          "name": "stdout",
          "text": [
            "             Open   High    Low  Close    Volume  Adj Close\n",
            "Date                                                       \n",
            "1980-12-31  34.25  34.25  34.13  34.13   8937600       0.53\n",
            "1981-01-30  28.50  28.50  28.25  28.25  11547200       0.44\n",
            "1981-02-27  26.50  26.75  26.50  26.50   3690400       0.41\n",
            "1981-03-31  24.75  24.75  24.50  24.50   3998400       0.38\n",
            "1981-04-30  28.38  28.62  28.38  28.38   3152800       0.44\n",
            "1981-05-29  33.13  33.25  33.13  33.13  14845600       0.52\n",
            "1981-06-30  26.13  26.13  26.00  26.00   8976800       0.41\n",
            "1981-07-31  25.00  25.12  25.00  25.00   2738400       0.39\n",
            "1981-08-31  20.13  20.25  20.13  20.13  10236800       0.31\n",
            "1981-09-30  15.25  15.37  15.25  15.25  12499200       0.24\n"
          ]
        },
        {
          "output_type": "stream",
          "name": "stderr",
          "text": [
            "<ipython-input-10-373a4c28fd12>:2: FutureWarning: 'BM' is deprecated and will be removed in a future version, please use 'BME' instead.\n",
            "  last_business_day_month = apple.resample('BM').last()\n"
          ]
        }
      ],
      "source": [
        "# Lấy ngày giao dịch cuối cùng (business day) của mỗi tháng\n",
        "last_business_day_month = apple.resample('BM').last()\n",
        "\n",
        "# Kiểm tra vài dòng đầu\n",
        "print(last_business_day_month.head(10))\n"
      ]
    },
    {
      "cell_type": "markdown",
      "metadata": {
        "pycharm": {
          "name": "#%% md\n"
        },
        "id": "SxIsfU6MmXXh"
      },
      "source": [
        "### Step 10.  What is the difference in days between the first day and the oldest"
      ]
    },
    {
      "cell_type": "code",
      "execution_count": 11,
      "metadata": {
        "pycharm": {
          "name": "#%%\n"
        },
        "id": "AhZohcMImXXh",
        "outputId": "3b3b121d-7ce2-45a9-b015-7fa7af04fd74",
        "colab": {
          "base_uri": "https://localhost:8080/"
        }
      },
      "outputs": [
        {
          "output_type": "stream",
          "name": "stdout",
          "text": [
            "Difference in days between the earliest and latest date: 12261\n"
          ]
        }
      ],
      "source": [
        "difference = apple.index[-1] - apple.index[0]\n",
        "print(\"Difference in days between the earliest and latest date:\", difference.days)\n"
      ]
    },
    {
      "cell_type": "markdown",
      "metadata": {
        "pycharm": {
          "name": "#%% md\n"
        },
        "id": "k3WnfUtvmXXh"
      },
      "source": [
        "### Step 11.  How many months in the data we have?"
      ]
    },
    {
      "cell_type": "code",
      "execution_count": 12,
      "metadata": {
        "pycharm": {
          "name": "#%%\n"
        },
        "id": "J-f8V029mXXh",
        "outputId": "14b00044-49f2-4906-8067-e150c20585eb",
        "colab": {
          "base_uri": "https://localhost:8080/"
        }
      },
      "outputs": [
        {
          "output_type": "stream",
          "name": "stdout",
          "text": [
            "Number of distinct months in the data: 404\n"
          ]
        }
      ],
      "source": [
        "num_months = apple.index.to_period('M').nunique()\n",
        "print(\"Number of distinct months in the data:\", num_months)\n"
      ]
    },
    {
      "cell_type": "markdown",
      "metadata": {
        "pycharm": {
          "name": "#%% md\n"
        },
        "id": "2Q_HuWeAmXXh"
      },
      "source": [
        "### Step 12. Plot the 'Adj Close' value. Set the size of the figure to 13.5 x 9 inches"
      ]
    },
    {
      "cell_type": "code",
      "execution_count": 13,
      "metadata": {
        "pycharm": {
          "name": "#%%\n"
        },
        "id": "GfM41sp8mXXh",
        "outputId": "ea919b5b-4e38-4964-a8da-8d1a33f57fe2",
        "colab": {
          "base_uri": "https://localhost:8080/",
          "height": 795
        }
      },
      "outputs": [
        {
          "output_type": "display_data",
          "data": {
            "text/plain": [
              "<Figure size 1350x900 with 1 Axes>"
            ],
            "image/png": "[encoded data removed]"
          },
          "metadata": {}
        }
      ],
      "source": [
        "import matplotlib.pyplot as plt\n",
        "\n",
        "plt.figure(figsize=(13.5, 9))  # Đặt kích thước biểu đồ 13.5 x 9 inches\n",
        "plt.plot(apple.index, apple['Adj Close'], label='Adjusted Close', color='blue')\n",
        "plt.title('Apple Stock - Adjusted Close Price Over Time')\n",
        "plt.xlabel('Date')\n",
        "plt.ylabel('Price (USD)')\n",
        "plt.legend()\n",
        "plt.show()\n"
      ]
    },
    {
      "cell_type": "markdown",
      "metadata": {
        "pycharm": {
          "name": "#%% md\n"
        },
        "id": "TdwxVzxTmXXh"
      },
      "source": [
        "### BONUS: Create your own question and answer it."
      ]
    },
    {
      "cell_type": "code",
      "execution_count": 14,
      "metadata": {
        "collapsed": true,
        "pycharm": {
          "name": "#%%\n"
        },
        "id": "gvHbzpjcmXXi",
        "outputId": "497692fa-576c-41a2-dc9f-3a1ab7577ed7",
        "colab": {
          "base_uri": "https://localhost:8080/",
          "height": 799
        }
      },
      "outputs": [
        {
          "output_type": "stream",
          "name": "stdout",
          "text": [
            "Trung bình 'Adj Close' theo tháng:\n",
            "Month\n",
            "1     10.636184\n",
            "2     10.813834\n",
            "3     11.077433\n",
            "4     11.609075\n",
            "5     12.087298\n",
            "6     12.002682\n",
            "7     10.623940\n",
            "8     10.716151\n",
            "9     10.856622\n",
            "10    10.817390\n",
            "11    11.009111\n",
            "12    10.832672\n",
            "Name: Adj Close, dtype: float64\n",
            "\n",
            "Tháng có giá 'Adj Close' trung bình cao nhất: 5\n",
            "Giá trị trung bình cao nhất: 12.09 USD\n"
          ]
        },
        {
          "output_type": "display_data",
          "data": {
            "text/plain": [
              "<Figure size 800x500 with 1 Axes>"
            ],
            "image/png": "[encoded data removed]"
          },
          "metadata": {}
        }
      ],
      "source": [
        "# 1. Tạo cột Month (nếu chưa có)\n",
        "apple['Month'] = apple.index.month\n",
        "\n",
        "# 2. Gom nhóm theo Month, tính trung bình cột 'Adj Close'\n",
        "monthly_avg_adj_close = apple.groupby('Month')['Adj Close'].mean()\n",
        "\n",
        "# 3. Tìm tháng có giá trung bình cao nhất\n",
        "max_month = monthly_avg_adj_close.idxmax()\n",
        "max_value = monthly_avg_adj_close.max()\n",
        "\n",
        "print(\"Trung bình 'Adj Close' theo tháng:\")\n",
        "print(monthly_avg_adj_close)\n",
        "print(f\"\\nTháng có giá 'Adj Close' trung bình cao nhất: {max_month}\")\n",
        "print(f\"Giá trị trung bình cao nhất: {max_value:.2f} USD\")\n",
        "\n",
        "# 4. Vẽ biểu đồ\n",
        "plt.figure(figsize=(8, 5))\n",
        "monthly_avg_adj_close.plot(kind='bar', color='orange')\n",
        "plt.title('Average Adj Close Price by Month')\n",
        "plt.xlabel('Month')\n",
        "plt.ylabel('Adj Close (USD)')\n",
        "plt.xticks(rotation=0)\n",
        "plt.show()\n"
      ]
    }
  ],
  "metadata": {
    "anaconda-cloud": {},
    "kernelspec": {
      "display_name": "Python [default]",
      "language": "python",
      "name": "python2"
    },
    "language_info": {
      "codemirror_mode": {
        "name": "ipython",
        "version": 2
      },
      "file_extension": ".py",
      "mimetype": "text/x-python",
      "name": "python",
      "nbconvert_exporter": "python",
      "pygments_lexer": "ipython2",
      "version": "2.7.12"
    },
    "colab": {
      "provenance": [],
      "include_colab_link": true
    }
  },
  "nbformat": 4,
  "nbformat_minor": 0
}