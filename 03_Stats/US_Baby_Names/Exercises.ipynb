{
  "cells": [
    {
      "cell_type": "markdown",
      "metadata": {
        "pycharm": {
          "name": "#%% md\n"
        },
        "id": "ykbiUkbb2TUl"
      },
      "source": [
        "# US - Baby Names"
      ]
    },
    {
      "cell_type": "markdown",
      "metadata": {
        "pycharm": {
          "name": "#%% md\n"
        },
        "id": "APJH-2mR2TUm"
      },
      "source": [
        "### Introduction:\n",
        "\n",
        "We are going to use a subset of [US Baby Names](https://www.kaggle.com/kaggle/us-baby-names) from Kaggle.  \n",
        "In the file it will be names from 2004 until 2014\n",
        "\n",
        "\n",
        "### Step 1. Import the necessary libraries"
      ]
    },
    {
      "cell_type": "code",
      "execution_count": 4,
      "metadata": {
        "pycharm": {
          "name": "#%%\n"
        },
        "id": "RdsZO-g-2TUn"
      },
      "outputs": [],
      "source": [
        "import pandas as pd\n"
      ]
    },
    {
      "cell_type": "markdown",
      "metadata": {
        "pycharm": {
          "name": "#%% md\n"
        },
        "id": "sFCCqL7N2TUn"
      },
      "source": [
        "### Step 2. Import the dataset from this [address](https://raw.githubusercontent.com/thieu1995/csv-files/main/data/pandas/US_Baby_Names_right.csv)."
      ]
    },
    {
      "cell_type": "markdown",
      "metadata": {
        "pycharm": {
          "name": "#%% md\n"
        },
        "id": "GuPaVK_F2TUn"
      },
      "source": [
        "### Step 3. Assign it to a variable called baby_names."
      ]
    },
    {
      "cell_type": "code",
      "execution_count": 5,
      "metadata": {
        "pycharm": {
          "name": "#%%\n"
        },
        "id": "7LQSJQ7P2TUn"
      },
      "outputs": [],
      "source": [
        "url = \"https://raw.githubusercontent.com/thieu1995/csv-files/main/data/pandas/US_Baby_Names_right.csv\"\n",
        "baby_names = pd.read_csv(url)\n",
        "baby_names = pd.read_csv(url)\n",
        "\n"
      ]
    },
    {
      "cell_type": "markdown",
      "metadata": {
        "pycharm": {
          "name": "#%% md\n"
        },
        "id": "R1d8nNPP2TUn"
      },
      "source": [
        "### Step 4. See the first 10 entries"
      ]
    },
    {
      "cell_type": "code",
      "execution_count": 6,
      "metadata": {
        "pycharm": {
          "name": "#%%\n"
        },
        "id": "8oXgjCRm2TUo",
        "outputId": "42c717e2-9ac5-495c-f532-25b829cca9d6",
        "colab": {
          "base_uri": "https://localhost:8080/"
        }
      },
      "outputs": [
        {
          "output_type": "stream",
          "name": "stdout",
          "text": [
            "   Unnamed: 0     Id      Name  Year Gender State  Count\n",
            "0       11349  11350      Emma  2004      F    AK     62\n",
            "1       11350  11351   Madison  2004      F    AK     48\n",
            "2       11351  11352    Hannah  2004      F    AK     46\n",
            "3       11352  11353     Grace  2004      F    AK     44\n",
            "4       11353  11354     Emily  2004      F    AK     41\n",
            "5       11354  11355   Abigail  2004      F    AK     37\n",
            "6       11355  11356    Olivia  2004      F    AK     33\n",
            "7       11356  11357  Isabella  2004      F    AK     30\n",
            "8       11357  11358    Alyssa  2004      F    AK     29\n",
            "9       11358  11359    Sophia  2004      F    AK     28\n"
          ]
        }
      ],
      "source": [
        "print(baby_names.head(10))\n"
      ]
    },
    {
      "cell_type": "markdown",
      "metadata": {
        "pycharm": {
          "name": "#%% md\n"
        },
        "id": "b-_WM0xN2TUo"
      },
      "source": [
        "### Step 5. Delete the column 'Unnamed: 0' and 'Id'"
      ]
    },
    {
      "cell_type": "code",
      "execution_count": 7,
      "metadata": {
        "pycharm": {
          "name": "#%%\n"
        },
        "id": "VTObI9Eu2TUo"
      },
      "outputs": [],
      "source": [
        "baby_names = baby_names.drop(columns=['Unnamed: 0', 'Id'])\n"
      ]
    },
    {
      "cell_type": "markdown",
      "metadata": {
        "pycharm": {
          "name": "#%% md\n"
        },
        "id": "FSB4cDWK2TUo"
      },
      "source": [
        "### Step 6. Is there more male or female names in the dataset?"
      ]
    },
    {
      "cell_type": "code",
      "execution_count": 10,
      "metadata": {
        "pycharm": {
          "name": "#%%\n"
        },
        "id": "-Gv0PQ7A2TUo",
        "outputId": "1b849557-ee35-42ed-88a8-2355c92be7e6",
        "colab": {
          "base_uri": "https://localhost:8080/"
        }
      },
      "outputs": [
        {
          "output_type": "stream",
          "name": "stdout",
          "text": [
            "Gender\n",
            "F    558846\n",
            "M    457549\n",
            "Name: count, dtype: int64\n"
          ]
        }
      ],
      "source": [
        "# Nhóm theo cột 'Gender' và đếm số lượng\n",
        "gender_counts = baby_names['Gender'].value_counts()\n",
        "print(gender_counts)\n"
      ]
    },
    {
      "cell_type": "markdown",
      "metadata": {
        "pycharm": {
          "name": "#%% md\n"
        },
        "id": "3IYQf_It2TUo"
      },
      "source": [
        "### Step 7. Group the dataset by name and assign to names"
      ]
    },
    {
      "cell_type": "code",
      "execution_count": 13,
      "metadata": {
        "pycharm": {
          "name": "#%%\n"
        },
        "id": "Zc6kq_x-2TUo",
        "outputId": "63217c92-3e17-4b2e-e64c-8514b69a5b52",
        "colab": {
          "base_uri": "https://localhost:8080/"
        }
      },
      "outputs": [
        {
          "output_type": "stream",
          "name": "stdout",
          "text": [
            "           Year                                             Gender  \\\n",
            "Name                                                                 \n",
            "Aaban      4027                                                 MM   \n",
            "Aadan      8039                                               MMMM   \n",
            "Aadarsh    2009                                                  M   \n",
            "Aaden    393963  MMMMMMMMMMMMMMMMMMMMMMMMMMMMMMMMMMMMMMMMMMMMMM...   \n",
            "Aadhav     2014                                                  M   \n",
            "\n",
            "                                                     State  Count  \n",
            "Name                                                               \n",
            "Aaban                                                 NYNY     12  \n",
            "Aadan                                             CACACATX     23  \n",
            "Aadarsh                                                 IL      5  \n",
            "Aaden    ALALALALALALALARARARAZAZAZAZAZAZCACACACACACACA...   3426  \n",
            "Aadhav                                                  CA      6  \n"
          ]
        }
      ],
      "source": [
        "# Nhóm dữ liệu theo tên\n",
        "names = baby_names.groupby('Name').sum()\n",
        "print(names.head())  # In ra một vài dòng đầu tiên để kiểm tra\n"
      ]
    },
    {
      "cell_type": "markdown",
      "metadata": {
        "pycharm": {
          "name": "#%% md\n"
        },
        "id": "WUnDGka52TUo"
      },
      "source": [
        "### Step 8. How many different names exist in the dataset?"
      ]
    },
    {
      "cell_type": "code",
      "execution_count": 15,
      "metadata": {
        "pycharm": {
          "name": "#%%\n"
        },
        "id": "nN5JRYr82TUo",
        "outputId": "216a2d6a-6a3a-41a3-e959-301d563237b8",
        "colab": {
          "base_uri": "https://localhost:8080/"
        }
      },
      "outputs": [
        {
          "output_type": "stream",
          "name": "stdout",
          "text": [
            "Số lượng tên khác nhau trong dữ liệu là: 17632\n"
          ]
        }
      ],
      "source": [
        "# Đếm số lượng tên khác nhau\n",
        "num_different_names = baby_names['Name'].nunique()\n",
        "print(f\"Số lượng tên khác nhau trong dữ liệu là: {num_different_names}\")\n"
      ]
    },
    {
      "cell_type": "markdown",
      "metadata": {
        "pycharm": {
          "name": "#%% md\n"
        },
        "id": "ztMnYo1Y2TUo"
      },
      "source": [
        "### Step 9. What is the name with most occurrences?"
      ]
    },
    {
      "cell_type": "code",
      "execution_count": 16,
      "metadata": {
        "pycharm": {
          "name": "#%%\n"
        },
        "id": "MvukL--O2TUp",
        "outputId": "ed0fdbbd-4d0f-48e7-8fc6-c2e9f47832d4",
        "colab": {
          "base_uri": "https://localhost:8080/"
        }
      },
      "outputs": [
        {
          "output_type": "stream",
          "name": "stdout",
          "text": [
            "Tên có số lần xuất hiện nhiều nhất là: Riley\n"
          ]
        }
      ],
      "source": [
        "# Tìm tên có số lần xuất hiện nhiều nhất\n",
        "most_frequent_name = baby_names['Name'].value_counts().idxmax()\n",
        "print(f\"Tên có số lần xuất hiện nhiều nhất là: {most_frequent_name}\")\n"
      ]
    },
    {
      "cell_type": "markdown",
      "metadata": {
        "pycharm": {
          "name": "#%% md\n"
        },
        "id": "KCK9kYUZ2TUp"
      },
      "source": [
        "### Step 10. How many different names have the least occurrences?"
      ]
    },
    {
      "cell_type": "code",
      "execution_count": 18,
      "metadata": {
        "pycharm": {
          "name": "#%%\n"
        },
        "id": "ox9iPmnP2TUp",
        "outputId": "6ab1815f-1393-4d55-efb2-e4dbb1e479f6",
        "colab": {
          "base_uri": "https://localhost:8080/"
        }
      },
      "outputs": [
        {
          "output_type": "stream",
          "name": "stdout",
          "text": [
            "Số lượng tên có số lần xuất hiện ít nhất là: 3682\n"
          ]
        }
      ],
      "source": [
        "# Tìm các tên có số lần xuất hiện ít nhất\n",
        "least_frequent_names = baby_names['Name'].value_counts().min()\n",
        "least_frequent_names = baby_names['Name'].value_counts()[baby_names['Name'].value_counts() == least_frequent_names]\n",
        "print(f\"Số lượng tên có số lần xuất hiện ít nhất là: {len(least_frequent_names)}\")\n"
      ]
    },
    {
      "cell_type": "markdown",
      "metadata": {
        "pycharm": {
          "name": "#%% md\n"
        },
        "id": "YWp3VlVu2TUp"
      },
      "source": [
        "### Step 11. What is the median name occurrence?"
      ]
    },
    {
      "cell_type": "code",
      "execution_count": 19,
      "metadata": {
        "pycharm": {
          "name": "#%%\n"
        },
        "id": "ldAqDQ8-2TUp",
        "outputId": "4fdbe0f5-8b30-4400-e621-cc1f59fc4196",
        "colab": {
          "base_uri": "https://localhost:8080/"
        }
      },
      "outputs": [
        {
          "output_type": "stream",
          "name": "stdout",
          "text": [
            "Trung vị của số lần xuất hiện tên là: 8.0\n"
          ]
        }
      ],
      "source": [
        "# Tính trung vị của số lần xuất hiện tên\n",
        "median_name_occurrence = baby_names['Name'].value_counts().median()\n",
        "print(f\"Trung vị của số lần xuất hiện tên là: {median_name_occurrence}\")\n"
      ]
    },
    {
      "cell_type": "markdown",
      "metadata": {
        "pycharm": {
          "name": "#%% md\n"
        },
        "id": "XDqKo1_X2TUp"
      },
      "source": [
        "### Step 12. What is the standard deviation of names?"
      ]
    },
    {
      "cell_type": "code",
      "execution_count": 20,
      "metadata": {
        "pycharm": {
          "name": "#%%\n"
        },
        "id": "RPZLB_bk2TUp",
        "outputId": "f028c9e6-b829-46f2-d61e-6a0bab97b524",
        "colab": {
          "base_uri": "https://localhost:8080/"
        }
      },
      "outputs": [
        {
          "output_type": "stream",
          "name": "stdout",
          "text": [
            "Độ lệch chuẩn của số lần xuất hiện tên là: 122.02996350814088\n"
          ]
        }
      ],
      "source": [
        "# Tính độ lệch chuẩn của số lần xuất hiện tên\n",
        "std_dev_name_occurrence = baby_names['Name'].value_counts().std()\n",
        "print(f\"Độ lệch chuẩn của số lần xuất hiện tên là: {std_dev_name_occurrence}\")\n"
      ]
    },
    {
      "cell_type": "markdown",
      "metadata": {
        "pycharm": {
          "name": "#%% md\n"
        },
        "id": "NUEK9r0B2TUp"
      },
      "source": [
        "### Step 13. Get a summary with the mean, min, max, std and quartiles."
      ]
    },
    {
      "cell_type": "code",
      "execution_count": 21,
      "metadata": {
        "pycharm": {
          "name": "#%%\n"
        },
        "id": "OxqN5ag52TUp",
        "outputId": "36258ec0-0906-48a1-81a1-3fc29948f694",
        "colab": {
          "base_uri": "https://localhost:8080/"
        }
      },
      "outputs": [
        {
          "output_type": "stream",
          "name": "stdout",
          "text": [
            "count    17632.000000\n",
            "mean        57.644907\n",
            "std        122.029964\n",
            "min          1.000000\n",
            "25%          2.000000\n",
            "50%          8.000000\n",
            "75%         39.000000\n",
            "max       1112.000000\n",
            "Name: count, dtype: float64\n"
          ]
        }
      ],
      "source": [
        "# Tóm tắt thống kê với trung bình, min, max, độ lệch chuẩn và các phần tử phân vị\n",
        "summary_stats = baby_names['Name'].value_counts().describe()\n",
        "print(summary_stats)\n"
      ]
    }
  ],
  "metadata": {
    "anaconda-cloud": {},
    "kernelspec": {
      "display_name": "Python [default]",
      "language": "python",
      "name": "python2"
    },
    "language_info": {
      "codemirror_mode": {
        "name": "ipython",
        "version": 2
      },
      "file_extension": ".py",
      "mimetype": "text/x-python",
      "name": "python",
      "nbconvert_exporter": "python",
      "pygments_lexer": "ipython2",
      "version": "2.7.11"
    },
    "colab": {
      "provenance": []
    }
  },
  "nbformat": 4,
  "nbformat_minor": 0
}